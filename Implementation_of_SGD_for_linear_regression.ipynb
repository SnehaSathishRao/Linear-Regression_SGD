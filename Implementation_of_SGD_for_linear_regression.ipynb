{
 "cells": [
  {
   "cell_type": "markdown",
   "metadata": {},
   "source": [
    "# Linear Regression and GD"
   ]
  },
  {
   "cell_type": "code",
   "execution_count": 271,
   "metadata": {},
   "outputs": [],
   "source": [
    "from sklearn.datasets import load_boston\n",
    "import pandas as pd\n",
    "import sklearn.cross_validation\n",
    "import random\n",
    "import numpy as np\n",
    "from sklearn.preprocessing import StandardScaler\n",
    "from sklearn.linear_model import LinearRegression\n",
    "from matplotlib import pyplot as plt"
   ]
  },
  {
   "cell_type": "markdown",
   "metadata": {},
   "source": [
    "# Load and split Data"
   ]
  },
  {
   "cell_type": "code",
   "execution_count": 280,
   "metadata": {},
   "outputs": [
    {
     "data": {
      "text/plain": [
       "(506, 14)"
      ]
     },
     "execution_count": 280,
     "metadata": {},
     "output_type": "execute_result"
    }
   ],
   "source": [
    "boston = load_boston()\n",
    "bos = pd.DataFrame(boston.data)\n",
    "bos['PRICE'] = boston.target\n",
    "X = bos.drop('PRICE', axis = 1)\n",
    "Y = bos['PRICE']\n",
    "bos.shape"
   ]
  },
  {
   "cell_type": "code",
   "execution_count": 281,
   "metadata": {},
   "outputs": [
    {
     "name": "stdout",
     "output_type": "stream",
     "text": [
      "(354, 13) (152, 13) (354,) (152,)\n"
     ]
    }
   ],
   "source": [
    "X_Train, X_Test, Y_Train, Y_Test = sklearn.cross_validation.train_test_split(X, Y, test_size = 0.3, random_state = 5)\n",
    "print(X_Train.shape,X_Test.shape,Y_Train.shape,Y_Test.shape)"
   ]
  },
  {
   "cell_type": "markdown",
   "metadata": {},
   "source": [
    "# Sk-learn LR"
   ]
  },
  {
   "cell_type": "code",
   "execution_count": 282,
   "metadata": {},
   "outputs": [
    {
     "name": "stdout",
     "output_type": "stream",
     "text": [
      "[-1.53479239e-01  4.13472741e-02 -2.48366000e-02  7.89647769e-01\n",
      " -1.30165607e+01  4.03032192e+00 -1.04163366e-02 -1.33585186e+00\n",
      "  3.18055744e-01 -1.26322534e-02 -9.78680671e-01  1.28217030e-02\n",
      " -4.63297797e-01]\n",
      "31.799718313818037\n"
     ]
    }
   ],
   "source": [
    "clf = LinearRegression()\n",
    "clf.fit(X_train, Y_train)\n",
    "print(clf.coef_)\n",
    "print(clf.intercept_)\n",
    "Y_pred = clf.predict(X_Test)"
   ]
  },
  {
   "cell_type": "markdown",
   "metadata": {},
   "source": [
    "# Gradient Descent"
   ]
  },
  {
   "cell_type": "code",
   "execution_count": 283,
   "metadata": {},
   "outputs": [],
   "source": [
    "X_Train = StandardScaler().fit_transform(X_Train)\n",
    "Y_Train = Y_Train[:, None]"
   ]
  },
  {
   "cell_type": "code",
   "execution_count": 286,
   "metadata": {},
   "outputs": [
    {
     "name": "stdout",
     "output_type": "stream",
     "text": [
      "225.5621468926799\n",
      "[[-1.12320466]\n",
      " [ 0.71325637]\n",
      " [-0.51857223]\n",
      " [ 0.23331179]\n",
      " [-1.09956315]\n",
      " [ 2.95292482]\n",
      " [-0.39032137]\n",
      " [-2.43151401]\n",
      " [ 1.46745459]\n",
      " [-0.86561478]\n",
      " [-2.02488144]\n",
      " [ 1.12738615]\n",
      " [-3.25113492]]\n",
      "264.0543107192921\n"
     ]
    }
   ],
   "source": [
    "iters = 10000\n",
    "lr = 0.001\n",
    "m = len(Y_Train)\n",
    "b = 0\n",
    "w = np.zeros((13,1))\n",
    "for iter in range(iters):\n",
    "    h = np.matmul(X_Train,w)\n",
    "    loss = h - Y_Train\n",
    "    CF = (np.sum(loss**2))/(2*m)\n",
    "    gradient_w = (1/m)*np.matmul(X_Train.T,loss)\n",
    "    gradient_b = (1/m)*np.sum(loss)\n",
    "    w = w - (lr * gradient_w)\n",
    "    b = b - (lr * gradient_b)\n",
    "print(b)\n",
    "print(w)\n",
    "print(CF)"
   ]
  }
 ],
 "metadata": {
  "kernelspec": {
   "display_name": "Python 3",
   "language": "python",
   "name": "python3"
  },
  "language_info": {
   "codemirror_mode": {
    "name": "ipython",
    "version": 3
   },
   "file_extension": ".py",
   "mimetype": "text/x-python",
   "name": "python",
   "nbconvert_exporter": "python",
   "pygments_lexer": "ipython3",
   "version": "3.6.5"
  }
 },
 "nbformat": 4,
 "nbformat_minor": 2
}
